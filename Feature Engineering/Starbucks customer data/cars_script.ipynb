{
 "cells": [
  {
   "cell_type": "code",
   "execution_count": 1,
   "metadata": {},
   "outputs": [],
   "source": [
    "import numpy as np\n",
    "\n",
    "import pandas as pd"
   ]
  },
  {
   "cell_type": "code",
   "execution_count": 2,
   "metadata": {},
   "outputs": [],
   "source": [
    "cars = pd.read_csv(\"./cars.csv\", delimiter=\";\")"
   ]
  },
  {
   "cell_type": "code",
   "execution_count": 3,
   "metadata": {},
   "outputs": [
    {
     "data": {
      "text/html": [
       "<div>\n",
       "<style scoped>\n",
       "    .dataframe tbody tr th:only-of-type {\n",
       "        vertical-align: middle;\n",
       "    }\n",
       "\n",
       "    .dataframe tbody tr th {\n",
       "        vertical-align: top;\n",
       "    }\n",
       "\n",
       "    .dataframe thead th {\n",
       "        text-align: right;\n",
       "    }\n",
       "</style>\n",
       "<table border=\"1\" class=\"dataframe\">\n",
       "  <thead>\n",
       "    <tr style=\"text-align: right;\">\n",
       "      <th></th>\n",
       "      <th>Unnamed: 0</th>\n",
       "      <th>year</th>\n",
       "      <th>make</th>\n",
       "      <th>model</th>\n",
       "      <th>trim</th>\n",
       "      <th>body</th>\n",
       "      <th>transmission</th>\n",
       "      <th>vin</th>\n",
       "      <th>state</th>\n",
       "      <th>condition</th>\n",
       "      <th>odometer</th>\n",
       "      <th>color</th>\n",
       "      <th>interior</th>\n",
       "      <th>seller</th>\n",
       "      <th>mmr</th>\n",
       "      <th>sellingprice</th>\n",
       "      <th>saledate</th>\n",
       "    </tr>\n",
       "  </thead>\n",
       "  <tbody>\n",
       "    <tr>\n",
       "      <th>0</th>\n",
       "      <td>449069</td>\n",
       "      <td>2006</td>\n",
       "      <td>Chrysler</td>\n",
       "      <td>300</td>\n",
       "      <td>Base</td>\n",
       "      <td>Sedan</td>\n",
       "      <td>automatic</td>\n",
       "      <td>2c3ka43r76h366165</td>\n",
       "      <td>il</td>\n",
       "      <td>1.9</td>\n",
       "      <td>119618.0</td>\n",
       "      <td>blue</td>\n",
       "      <td>gray</td>\n",
       "      <td>go financial</td>\n",
       "      <td>4775</td>\n",
       "      <td>2500</td>\n",
       "      <td>Thu May 28 2015 03:00:00 GMT-0700 (PDT)</td>\n",
       "    </tr>\n",
       "    <tr>\n",
       "      <th>1</th>\n",
       "      <td>197199</td>\n",
       "      <td>2014</td>\n",
       "      <td>Volkswagen</td>\n",
       "      <td>Jetta</td>\n",
       "      <td>S</td>\n",
       "      <td>Sedan</td>\n",
       "      <td>manual</td>\n",
       "      <td>3vw1k7aj9em275429</td>\n",
       "      <td>ca</td>\n",
       "      <td>4.9</td>\n",
       "      <td>7740.0</td>\n",
       "      <td>—</td>\n",
       "      <td>black</td>\n",
       "      <td>volkswagen credit inc/sc</td>\n",
       "      <td>12050</td>\n",
       "      <td>12750</td>\n",
       "      <td>Wed Jul 01 2015 09:30:00 GMT-0700 (PDT)</td>\n",
       "    </tr>\n",
       "    <tr>\n",
       "      <th>2</th>\n",
       "      <td>288171</td>\n",
       "      <td>2007</td>\n",
       "      <td>Dodge</td>\n",
       "      <td>Durango</td>\n",
       "      <td>SLT</td>\n",
       "      <td>SUV</td>\n",
       "      <td>automatic</td>\n",
       "      <td>1d8hd48p97f510727</td>\n",
       "      <td>fl</td>\n",
       "      <td>1.9</td>\n",
       "      <td>166628.0</td>\n",
       "      <td>gold</td>\n",
       "      <td>tan</td>\n",
       "      <td>mid atlantic finance/clearwater</td>\n",
       "      <td>2850</td>\n",
       "      <td>2700</td>\n",
       "      <td>Wed Feb 11 2015 08:00:00 GMT-0800 (PST)</td>\n",
       "    </tr>\n",
       "    <tr>\n",
       "      <th>3</th>\n",
       "      <td>277025</td>\n",
       "      <td>2013</td>\n",
       "      <td>Mercedes-Benz</td>\n",
       "      <td>E-Class</td>\n",
       "      <td>E350 Sport</td>\n",
       "      <td>Sedan</td>\n",
       "      <td>automatic</td>\n",
       "      <td>wddhf5kb3da735753</td>\n",
       "      <td>tx</td>\n",
       "      <td>3.8</td>\n",
       "      <td>23923.0</td>\n",
       "      <td>white</td>\n",
       "      <td>off-white</td>\n",
       "      <td>mercedes-benz financial services</td>\n",
       "      <td>32200</td>\n",
       "      <td>32000</td>\n",
       "      <td>Thu Feb 12 2015 03:00:00 GMT-0800 (PST)</td>\n",
       "    </tr>\n",
       "    <tr>\n",
       "      <th>4</th>\n",
       "      <td>322760</td>\n",
       "      <td>2013</td>\n",
       "      <td>Ford</td>\n",
       "      <td>Explorer</td>\n",
       "      <td>XLT</td>\n",
       "      <td>SUV</td>\n",
       "      <td>automatic</td>\n",
       "      <td>1fm5k8d84dgc59887</td>\n",
       "      <td>mi</td>\n",
       "      <td>5.0</td>\n",
       "      <td>18494.0</td>\n",
       "      <td>red</td>\n",
       "      <td>black</td>\n",
       "      <td>ford motor credit company,llc</td>\n",
       "      <td>29100</td>\n",
       "      <td>28100</td>\n",
       "      <td>Thu Jun 11 2015 02:30:00 GMT-0700 (PDT)</td>\n",
       "    </tr>\n",
       "  </tbody>\n",
       "</table>\n",
       "</div>"
      ],
      "text/plain": [
       "   Unnamed: 0  year           make     model        trim   body transmission  \\\n",
       "0      449069  2006       Chrysler       300        Base  Sedan    automatic   \n",
       "1      197199  2014     Volkswagen     Jetta           S  Sedan       manual   \n",
       "2      288171  2007          Dodge   Durango         SLT    SUV    automatic   \n",
       "3      277025  2013  Mercedes-Benz   E-Class  E350 Sport  Sedan    automatic   \n",
       "4      322760  2013           Ford  Explorer         XLT    SUV    automatic   \n",
       "\n",
       "                 vin state  condition  odometer  color   interior  \\\n",
       "0  2c3ka43r76h366165    il        1.9  119618.0   blue       gray   \n",
       "1  3vw1k7aj9em275429    ca        4.9    7740.0      —      black   \n",
       "2  1d8hd48p97f510727    fl        1.9  166628.0   gold        tan   \n",
       "3  wddhf5kb3da735753    tx        3.8   23923.0  white  off-white   \n",
       "4  1fm5k8d84dgc59887    mi        5.0   18494.0    red      black   \n",
       "\n",
       "                             seller    mmr  sellingprice  \\\n",
       "0                      go financial   4775          2500   \n",
       "1          volkswagen credit inc/sc  12050         12750   \n",
       "2   mid atlantic finance/clearwater   2850          2700   \n",
       "3  mercedes-benz financial services  32200         32000   \n",
       "4     ford motor credit company,llc  29100         28100   \n",
       "\n",
       "                                  saledate  \n",
       "0  Thu May 28 2015 03:00:00 GMT-0700 (PDT)  \n",
       "1  Wed Jul 01 2015 09:30:00 GMT-0700 (PDT)  \n",
       "2  Wed Feb 11 2015 08:00:00 GMT-0800 (PST)  \n",
       "3  Thu Feb 12 2015 03:00:00 GMT-0800 (PST)  \n",
       "4  Thu Jun 11 2015 02:30:00 GMT-0700 (PDT)  "
      ]
     },
     "execution_count": 3,
     "metadata": {},
     "output_type": "execute_result"
    }
   ],
   "source": [
    "cars.head()"
   ]
  },
  {
   "cell_type": "code",
   "execution_count": 9,
   "metadata": {},
   "outputs": [
    {
     "data": {
      "text/plain": [
       "array([1.9, 4.9, 3.8, 5. , 4.1, 4.4, 2.8, 3.5, 4.7, 3.4, 3.9, 2. , 3.7,\n",
       "       2.9, 3.6, 4.8, 3. , 2.5, 4.6, 2.2, 2.7, 4.2, 2.6, 1. , 3.2, 4.5,\n",
       "       4.3, 1.8, 4. , 3.3, nan, 2.3, 2.1, 3.1, 2.4, 1.3, 1.7, 1.6, 1.4,\n",
       "       1.5, 1.1])"
      ]
     },
     "execution_count": 9,
     "metadata": {},
     "output_type": "execute_result"
    }
   ],
   "source": [
    "cars[\"condition\"].unique()"
   ]
  },
  {
   "cell_type": "code",
   "execution_count": 10,
   "metadata": {},
   "outputs": [
    {
     "data": {
      "text/plain": [
       "(1.0, 5.0)"
      ]
     },
     "execution_count": 10,
     "metadata": {},
     "output_type": "execute_result"
    }
   ],
   "source": [
    "min(cars[\"condition\"].unique()), max(cars[\"condition\"].unique())"
   ]
  },
  {
   "cell_type": "code",
   "execution_count": 11,
   "metadata": {},
   "outputs": [
    {
     "name": "stdout",
     "output_type": "stream",
     "text": [
      "['Fair' 'New' 'Like New' 'Excellent' 'good' 'unknown']\n"
     ]
    }
   ],
   "source": [
    "# Function to convert numerical condition to categorical\n",
    "def convert_condition(cond):\n",
    "    if 1.0 <= cond < 2.0:\n",
    "        return 'Fair'\n",
    "    elif 2.0 <= cond < 3.0:\n",
    "        return 'good'\n",
    "    elif 3.0 <= cond < 4.0:\n",
    "        return 'Like New'\n",
    "    elif 4.0 <= cond < 5.0:\n",
    "        return 'New'\n",
    "    elif cond == 5.0:\n",
    "        return 'Excellent'\n",
    "    else:\n",
    "        return 'unknown'  # In case there are unexpected values\n",
    "\n",
    "# Applying the function\n",
    "cars['condition'] = cars['condition'].apply(convert_condition)\n",
    "\n",
    "print(cars[\"condition\"].unique())"
   ]
  },
  {
   "cell_type": "code",
   "execution_count": 14,
   "metadata": {},
   "outputs": [
    {
     "data": {
      "text/plain": [
       "array(['blue', '—', 'gold', 'white', 'red', 'silver', 'black', 'gray',\n",
       "       'burgundy', 'brown', 'turquoise', 'orange', 'green', 'beige',\n",
       "       'yellow', 'purple', 'off-white', 'charcoal', nan, 'pink'],\n",
       "      dtype=object)"
      ]
     },
     "execution_count": 14,
     "metadata": {},
     "output_type": "execute_result"
    }
   ],
   "source": [
    "cars[\"color\"].unique()"
   ]
  },
  {
   "cell_type": "code",
   "execution_count": 15,
   "metadata": {},
   "outputs": [
    {
     "data": {
      "text/plain": [
       "19"
      ]
     },
     "execution_count": 15,
     "metadata": {},
     "output_type": "execute_result"
    }
   ],
   "source": [
    "cars[\"color\"].nunique()"
   ]
  },
  {
   "cell_type": "code",
   "execution_count": 18,
   "metadata": {},
   "outputs": [
    {
     "data": {
      "text/plain": [
       "Unnamed: 0        int64\n",
       "year              int64\n",
       "make             object\n",
       "model            object\n",
       "trim             object\n",
       "body             object\n",
       "transmission     object\n",
       "vin              object\n",
       "state            object\n",
       "condition        object\n",
       "odometer        float64\n",
       "color            object\n",
       "interior         object\n",
       "seller           object\n",
       "mmr               int64\n",
       "sellingprice      int64\n",
       "saledate         object\n",
       "dtype: object"
      ]
     },
     "execution_count": 18,
     "metadata": {},
     "output_type": "execute_result"
    }
   ],
   "source": [
    "cars.dtypes"
   ]
  },
  {
   "cell_type": "code",
   "execution_count": 19,
   "metadata": {},
   "outputs": [
    {
     "data": {
      "text/html": [
       "<div>\n",
       "<style scoped>\n",
       "    .dataframe tbody tr th:only-of-type {\n",
       "        vertical-align: middle;\n",
       "    }\n",
       "\n",
       "    .dataframe tbody tr th {\n",
       "        vertical-align: top;\n",
       "    }\n",
       "\n",
       "    .dataframe thead th {\n",
       "        text-align: right;\n",
       "    }\n",
       "</style>\n",
       "<table border=\"1\" class=\"dataframe\">\n",
       "  <thead>\n",
       "    <tr style=\"text-align: right;\">\n",
       "      <th></th>\n",
       "      <th>Unnamed: 0</th>\n",
       "      <th>year</th>\n",
       "      <th>make</th>\n",
       "      <th>model</th>\n",
       "      <th>trim</th>\n",
       "      <th>body</th>\n",
       "      <th>transmission</th>\n",
       "      <th>vin</th>\n",
       "      <th>state</th>\n",
       "      <th>condition</th>\n",
       "      <th>odometer</th>\n",
       "      <th>color</th>\n",
       "      <th>interior</th>\n",
       "      <th>seller</th>\n",
       "      <th>mmr</th>\n",
       "      <th>sellingprice</th>\n",
       "      <th>saledate</th>\n",
       "    </tr>\n",
       "  </thead>\n",
       "  <tbody>\n",
       "    <tr>\n",
       "      <th>0</th>\n",
       "      <td>449069</td>\n",
       "      <td>2006</td>\n",
       "      <td>Chrysler</td>\n",
       "      <td>300</td>\n",
       "      <td>Base</td>\n",
       "      <td>Sedan</td>\n",
       "      <td>automatic</td>\n",
       "      <td>2c3ka43r76h366165</td>\n",
       "      <td>il</td>\n",
       "      <td>Fair</td>\n",
       "      <td>119618.0</td>\n",
       "      <td>blue</td>\n",
       "      <td>gray</td>\n",
       "      <td>go financial</td>\n",
       "      <td>4775</td>\n",
       "      <td>2500</td>\n",
       "      <td>Thu May 28 2015 03:00:00 GMT-0700 (PDT)</td>\n",
       "    </tr>\n",
       "    <tr>\n",
       "      <th>1</th>\n",
       "      <td>197199</td>\n",
       "      <td>2014</td>\n",
       "      <td>Volkswagen</td>\n",
       "      <td>Jetta</td>\n",
       "      <td>S</td>\n",
       "      <td>Sedan</td>\n",
       "      <td>manual</td>\n",
       "      <td>3vw1k7aj9em275429</td>\n",
       "      <td>ca</td>\n",
       "      <td>New</td>\n",
       "      <td>7740.0</td>\n",
       "      <td>—</td>\n",
       "      <td>black</td>\n",
       "      <td>volkswagen credit inc/sc</td>\n",
       "      <td>12050</td>\n",
       "      <td>12750</td>\n",
       "      <td>Wed Jul 01 2015 09:30:00 GMT-0700 (PDT)</td>\n",
       "    </tr>\n",
       "    <tr>\n",
       "      <th>2</th>\n",
       "      <td>288171</td>\n",
       "      <td>2007</td>\n",
       "      <td>Dodge</td>\n",
       "      <td>Durango</td>\n",
       "      <td>SLT</td>\n",
       "      <td>SUV</td>\n",
       "      <td>automatic</td>\n",
       "      <td>1d8hd48p97f510727</td>\n",
       "      <td>fl</td>\n",
       "      <td>Fair</td>\n",
       "      <td>166628.0</td>\n",
       "      <td>gold</td>\n",
       "      <td>tan</td>\n",
       "      <td>mid atlantic finance/clearwater</td>\n",
       "      <td>2850</td>\n",
       "      <td>2700</td>\n",
       "      <td>Wed Feb 11 2015 08:00:00 GMT-0800 (PST)</td>\n",
       "    </tr>\n",
       "    <tr>\n",
       "      <th>3</th>\n",
       "      <td>277025</td>\n",
       "      <td>2013</td>\n",
       "      <td>Mercedes-Benz</td>\n",
       "      <td>E-Class</td>\n",
       "      <td>E350 Sport</td>\n",
       "      <td>Sedan</td>\n",
       "      <td>automatic</td>\n",
       "      <td>wddhf5kb3da735753</td>\n",
       "      <td>tx</td>\n",
       "      <td>Like New</td>\n",
       "      <td>23923.0</td>\n",
       "      <td>white</td>\n",
       "      <td>off-white</td>\n",
       "      <td>mercedes-benz financial services</td>\n",
       "      <td>32200</td>\n",
       "      <td>32000</td>\n",
       "      <td>Thu Feb 12 2015 03:00:00 GMT-0800 (PST)</td>\n",
       "    </tr>\n",
       "    <tr>\n",
       "      <th>4</th>\n",
       "      <td>322760</td>\n",
       "      <td>2013</td>\n",
       "      <td>Ford</td>\n",
       "      <td>Explorer</td>\n",
       "      <td>XLT</td>\n",
       "      <td>SUV</td>\n",
       "      <td>automatic</td>\n",
       "      <td>1fm5k8d84dgc59887</td>\n",
       "      <td>mi</td>\n",
       "      <td>Excellent</td>\n",
       "      <td>18494.0</td>\n",
       "      <td>red</td>\n",
       "      <td>black</td>\n",
       "      <td>ford motor credit company,llc</td>\n",
       "      <td>29100</td>\n",
       "      <td>28100</td>\n",
       "      <td>Thu Jun 11 2015 02:30:00 GMT-0700 (PDT)</td>\n",
       "    </tr>\n",
       "  </tbody>\n",
       "</table>\n",
       "</div>"
      ],
      "text/plain": [
       "   Unnamed: 0  year           make     model        trim   body transmission  \\\n",
       "0      449069  2006       Chrysler       300        Base  Sedan    automatic   \n",
       "1      197199  2014     Volkswagen     Jetta           S  Sedan       manual   \n",
       "2      288171  2007          Dodge   Durango         SLT    SUV    automatic   \n",
       "3      277025  2013  Mercedes-Benz   E-Class  E350 Sport  Sedan    automatic   \n",
       "4      322760  2013           Ford  Explorer         XLT    SUV    automatic   \n",
       "\n",
       "                 vin state  condition  odometer  color   interior  \\\n",
       "0  2c3ka43r76h366165    il       Fair  119618.0   blue       gray   \n",
       "1  3vw1k7aj9em275429    ca        New    7740.0      —      black   \n",
       "2  1d8hd48p97f510727    fl       Fair  166628.0   gold        tan   \n",
       "3  wddhf5kb3da735753    tx   Like New   23923.0  white  off-white   \n",
       "4  1fm5k8d84dgc59887    mi  Excellent   18494.0    red      black   \n",
       "\n",
       "                             seller    mmr  sellingprice  \\\n",
       "0                      go financial   4775          2500   \n",
       "1          volkswagen credit inc/sc  12050         12750   \n",
       "2   mid atlantic finance/clearwater   2850          2700   \n",
       "3  mercedes-benz financial services  32200         32000   \n",
       "4     ford motor credit company,llc  29100         28100   \n",
       "\n",
       "                                  saledate  \n",
       "0  Thu May 28 2015 03:00:00 GMT-0700 (PDT)  \n",
       "1  Wed Jul 01 2015 09:30:00 GMT-0700 (PDT)  \n",
       "2  Wed Feb 11 2015 08:00:00 GMT-0800 (PST)  \n",
       "3  Thu Feb 12 2015 03:00:00 GMT-0800 (PST)  \n",
       "4  Thu Jun 11 2015 02:30:00 GMT-0700 (PDT)  "
      ]
     },
     "execution_count": 19,
     "metadata": {},
     "output_type": "execute_result"
    }
   ],
   "source": [
    "cars.head()"
   ]
  },
  {
   "cell_type": "code",
   "execution_count": null,
   "metadata": {},
   "outputs": [],
   "source": []
  }
 ],
 "metadata": {
  "kernelspec": {
   "display_name": "Python 3",
   "language": "python",
   "name": "python3"
  },
  "language_info": {
   "codemirror_mode": {
    "name": "ipython",
    "version": 3
   },
   "file_extension": ".py",
   "mimetype": "text/x-python",
   "name": "python",
   "nbconvert_exporter": "python",
   "pygments_lexer": "ipython3",
   "version": "3.10.6"
  }
 },
 "nbformat": 4,
 "nbformat_minor": 2
}
